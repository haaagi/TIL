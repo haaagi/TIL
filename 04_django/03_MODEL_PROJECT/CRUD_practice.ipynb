{
 "cells": [
  {
   "cell_type": "code",
   "execution_count": null,
   "metadata": {},
   "outputs": [],
   "source": [
    "from students.models import Student"
   ]
  },
  {
   "cell_type": "markdown",
   "metadata": {},
   "source": [
    "Student\n",
    "* `name = models.CharField(max_length=10)`\n",
    "* `email = models.CharField(max_length=50)`\n",
    "* `github_id = models.CharField(max_length=50)`\n",
    "* `age = models.IntegerField()`"
   ]
  },
  {
   "cell_type": "code",
   "execution_count": null,
   "metadata": {},
   "outputs": [],
   "source": [
    "# Create"
   ]
  },
  {
   "cell_type": "code",
   "execution_count": null,
   "metadata": {},
   "outputs": [],
   "source": [
    "student = Student()\n",
    "student.name = '유태영'\n",
    "student.email = 'neo@hphk.kr'\n",
    "student.github_id = 'eduneo'\n",
    "student.age = 35\n",
    "student.save()"
   ]
  },
  {
   "cell_type": "code",
   "execution_count": null,
   "metadata": {},
   "outputs": [],
   "source": [
    "student = Student(name='김선재', email='jason@hphk.kr', github_id='edujason', age=30)\n",
    "student.save()"
   ]
  },
  {
   "cell_type": "code",
   "execution_count": null,
   "metadata": {},
   "outputs": [],
   "source": [
    "student = Student.objects.create(name='오창희', email='change@hphk.kr', github_id='educhange', age=33)"
   ]
  },
  {
   "cell_type": "code",
   "execution_count": null,
   "metadata": {},
   "outputs": [],
   "source": [
    "# Read(Retrieve)"
   ]
  },
  {
   "cell_type": "code",
   "execution_count": 4,
   "metadata": {},
   "outputs": [
    {
     "name": "stdout",
     "output_type": "stream",
     "text": [
      "강동주 유태영 tak@hphk.kr\n"
     ]
    }
   ],
   "source": [
    "# id 로 조회하기\n",
    "s1 = Student.objects.get(id=2)\n",
    "s2 = Student.objects.get(id=6)\n",
    "s3 = Student.objects.get(name='김탁희')\n",
    "print(s1.name, s2.name, s3.email)"
   ]
  },
  {
   "cell_type": "code",
   "execution_count": null,
   "metadata": {},
   "outputs": [],
   "source": [
    "# Update => 하나를 잡아서 특정 값을 수정하고 저장한다."
   ]
  },
  {
   "cell_type": "code",
   "execution_count": null,
   "metadata": {},
   "outputs": [],
   "source": [
    "# 하나를 잡아서\n",
    "s1 = Student.objects.get(id=1)\n",
    "# 특정 값을 수정하고\n",
    "s1.age = 50\n",
    "# 저장한다.\n",
    "s1.save()"
   ]
  },
  {
   "cell_type": "code",
   "execution_count": null,
   "metadata": {},
   "outputs": [],
   "source": [
    "# Delete(Destroy) => 하나를 잡아서 삭제한다."
   ]
  },
  {
   "cell_type": "code",
   "execution_count": null,
   "metadata": {},
   "outputs": [],
   "source": [
    "# 하나를 잡아서\n",
    "s5 = Student.objects.get(id=5)\n",
    "# 삭제한다.\n",
    "s5.delete()"
   ]
  },
  {
   "cell_type": "code",
   "execution_count": 1,
   "metadata": {},
   "outputs": [],
   "source": [
    "from students.models import Menu"
   ]
  },
  {
   "cell_type": "code",
   "execution_count": 10,
   "metadata": {},
   "outputs": [],
   "source": [
    "m = Menu()\n",
    "m.name = '또두과자'\n",
    "m.price = 3500\n",
    "m.category = '간식'\n",
    "m.save()"
   ]
  },
  {
   "cell_type": "code",
   "execution_count": 4,
   "metadata": {},
   "outputs": [
    {
     "name": "stdout",
     "output_type": "stream",
     "text": [
      "또두과자 3500.0 간식\n"
     ]
    }
   ],
   "source": [
    "m = Menu.objects.get(id=1)\n",
    "print(m.name, m.price, m.category)"
   ]
  },
  {
   "cell_type": "code",
   "execution_count": 7,
   "metadata": {},
   "outputs": [
    {
     "name": "stdout",
     "output_type": "stream",
     "text": [
      "3700\n"
     ]
    }
   ],
   "source": [
    "m.price = 3700\n",
    "m.save()\n",
    "print(m.price)"
   ]
  },
  {
   "cell_type": "code",
   "execution_count": 9,
   "metadata": {},
   "outputs": [
    {
     "ename": "AssertionError",
     "evalue": "Menu object can't be deleted because its id attribute is set to None.",
     "output_type": "error",
     "traceback": [
      "\u001b[1;31m------------------------------------------------------------\u001b[0m",
      "\u001b[1;31mAssertionError\u001b[0m             Traceback (most recent call last)",
      "\u001b[1;32m<ipython-input-9-9002bddebda1>\u001b[0m in \u001b[0;36m<module>\u001b[1;34m\u001b[0m\n\u001b[1;32m----> 1\u001b[1;33m \u001b[0mm\u001b[0m\u001b[1;33m.\u001b[0m\u001b[0mdelete\u001b[0m\u001b[1;33m(\u001b[0m\u001b[1;33m)\u001b[0m\u001b[1;33m\u001b[0m\u001b[1;33m\u001b[0m\u001b[0m\n\u001b[0m",
      "\u001b[1;32m~\\TIL\\04_django\\venv\\lib\\site-packages\\django\\db\\models\\base.py\u001b[0m in \u001b[0;36mdelete\u001b[1;34m(self, using, keep_parents)\u001b[0m\n\u001b[0;32m    912\u001b[0m         assert self.pk is not None, (\n\u001b[0;32m    913\u001b[0m             \u001b[1;34m\"%s object can't be deleted because its %s attribute is set to None.\"\u001b[0m \u001b[1;33m%\u001b[0m\u001b[1;33m\u001b[0m\u001b[1;33m\u001b[0m\u001b[0m\n\u001b[1;32m--> 914\u001b[1;33m             \u001b[1;33m(\u001b[0m\u001b[0mself\u001b[0m\u001b[1;33m.\u001b[0m\u001b[0m_meta\u001b[0m\u001b[1;33m.\u001b[0m\u001b[0mobject_name\u001b[0m\u001b[1;33m,\u001b[0m \u001b[0mself\u001b[0m\u001b[1;33m.\u001b[0m\u001b[0m_meta\u001b[0m\u001b[1;33m.\u001b[0m\u001b[0mpk\u001b[0m\u001b[1;33m.\u001b[0m\u001b[0mattname\u001b[0m\u001b[1;33m)\u001b[0m\u001b[1;33m\u001b[0m\u001b[1;33m\u001b[0m\u001b[0m\n\u001b[0m\u001b[0;32m    915\u001b[0m         )\n\u001b[0;32m    916\u001b[0m \u001b[1;33m\u001b[0m\u001b[0m\n",
      "\u001b[1;31mAssertionError\u001b[0m: Menu object can't be deleted because its id attribute is set to None."
     ]
    }
   ],
   "source": [
    "m.delete()"
   ]
  }
 ],
 "metadata": {
  "kernelspec": {
   "display_name": "Django Shell-Plus",
   "language": "python",
   "name": "django_extensions"
  },
  "language_info": {
   "codemirror_mode": {
    "name": "ipython",
    "version": 3
   },
   "file_extension": ".py",
   "mimetype": "text/x-python",
   "name": "python",
   "nbconvert_exporter": "python",
   "pygments_lexer": "ipython3",
   "version": "3.7.3"
  }
 },
 "nbformat": 4,
 "nbformat_minor": 2
}
