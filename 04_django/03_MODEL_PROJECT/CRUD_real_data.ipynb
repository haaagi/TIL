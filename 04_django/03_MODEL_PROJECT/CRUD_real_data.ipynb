{
 "cells": [
  {
   "cell_type": "code",
   "execution_count": 1,
   "metadata": {},
   "outputs": [],
   "source": [
    "import requests\n",
    "from bs4 import BeautifulSoup\n",
    "\n",
    "from real_data.models import HotIssue"
   ]
  },
  {
   "cell_type": "code",
   "execution_count": 10,
   "metadata": {},
   "outputs": [],
   "source": [
    "def get_hot_issue(n):\n",
    "    url = 'https://datalab.naver.com/keyword/realtimeList.naver'\n",
    "    headers = {'user-agent': ':)'}\n",
    "    res = requests.get(url, headers=headers).text\n",
    "\n",
    "    soup = BeautifulSoup(res, 'html.parser')\n",
    "\n",
    "    time_sel ='#content > div > div.section_serch_area > div > div.time_indo > a.time_box._time_trigger > span.time_txt._title_hms'\n",
    "    date_sel = '#content > div > div.section_serch_area > div > div.date_indo > a.date_box._date_trigger > span.date_txt._title_ymd'\n",
    "    rank_sel = f'#content > div > div.keyword_carousel > div > div > div:nth-child(1) > div > div > ul > li:nth-child({n}) > a > em'\n",
    "    keyword_sel = f'#content > div > div.keyword_carousel > div > div > div:nth-child(1) > div > div > ul > li:nth-child({n}) > a > span'\n",
    "\n",
    "    time = soup.select_one(time_sel).text\n",
    "    date = soup.select_one(date_sel).text\n",
    "    rank = soup.select_one(rank_sel).text\n",
    "    keyword = soup.select_one(keyword_sel).text\n",
    "    \n",
    "    return {'time': time, 'date': date, 'rank': rank, 'keyword': keyword}"
   ]
  },
  {
   "cell_type": "code",
   "execution_count": 11,
   "metadata": {},
   "outputs": [],
   "source": [
    "for i in range(1, 21):\n",
    "    HotIssue.objects.create(\n",
    "        time=get_hot_issue(i).get('time'),\n",
    "        date=get_hot_issue(i).get('date'),\n",
    "        rank=get_hot_issue(i).get('rank'),\n",
    "        keyword=get_hot_issue(i).get('keyword')\n",
    "    )\n"
   ]
  },
  {
   "cell_type": "code",
   "execution_count": null,
   "metadata": {},
   "outputs": [],
   "source": []
  }
 ],
 "metadata": {
  "kernelspec": {
   "display_name": "Django Shell-Plus",
   "language": "python",
   "name": "django_extensions"
  },
  "language_info": {
   "codemirror_mode": {
    "name": "ipython",
    "version": 3
   },
   "file_extension": ".py",
   "mimetype": "text/x-python",
   "name": "python",
   "nbconvert_exporter": "python",
   "pygments_lexer": "ipython3",
   "version": "3.7.3"
  }
 },
 "nbformat": 4,
 "nbformat_minor": 2
}
